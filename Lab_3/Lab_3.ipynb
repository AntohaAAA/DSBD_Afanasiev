{
 "cells": [
  {
   "cell_type": "code",
   "execution_count": 1,
   "id": "initial_id",
   "metadata": {
    "collapsed": true,
    "ExecuteTime": {
     "end_time": "2023-11-24T11:27:28.462220300Z",
     "start_time": "2023-11-24T11:27:28.030631300Z"
    }
   },
   "outputs": [
    {
     "data": {
      "text/plain": "   symboling normalized-losses         make fuel-type aspiration num-of-doors  \\\n0          3                 ?  alfa-romero       gas        std          two   \n1          3                 ?  alfa-romero       gas        std          two   \n2          1                 ?  alfa-romero       gas        std          two   \n3          2               164         audi       gas        std         four   \n4          2               164         audi       gas        std         four   \n\n    body-style drive-wheels engine-location  wheel-base  ...  engine-size  \\\n0  convertible          rwd           front        88.6  ...          130   \n1  convertible          rwd           front        88.6  ...          130   \n2    hatchback          rwd           front        94.5  ...          152   \n3        sedan          fwd           front        99.8  ...          109   \n4        sedan          4wd           front        99.4  ...          136   \n\n   fuel-system  bore  stroke compression-ratio horsepower  peak-rpm city-mpg  \\\n0         mpfi  3.47    2.68               9.0        111      5000       21   \n1         mpfi  3.47    2.68               9.0        111      5000       21   \n2         mpfi  2.68    3.47               9.0        154      5000       19   \n3         mpfi  3.19     3.4              10.0        102      5500       24   \n4         mpfi  3.19     3.4               8.0        115      5500       18   \n\n  highway-mpg  price  \n0          27  13495  \n1          27  16500  \n2          26  16500  \n3          30  13950  \n4          22  17450  \n\n[5 rows x 26 columns]",
      "text/html": "<div>\n<style scoped>\n    .dataframe tbody tr th:only-of-type {\n        vertical-align: middle;\n    }\n\n    .dataframe tbody tr th {\n        vertical-align: top;\n    }\n\n    .dataframe thead th {\n        text-align: right;\n    }\n</style>\n<table border=\"1\" class=\"dataframe\">\n  <thead>\n    <tr style=\"text-align: right;\">\n      <th></th>\n      <th>symboling</th>\n      <th>normalized-losses</th>\n      <th>make</th>\n      <th>fuel-type</th>\n      <th>aspiration</th>\n      <th>num-of-doors</th>\n      <th>body-style</th>\n      <th>drive-wheels</th>\n      <th>engine-location</th>\n      <th>wheel-base</th>\n      <th>...</th>\n      <th>engine-size</th>\n      <th>fuel-system</th>\n      <th>bore</th>\n      <th>stroke</th>\n      <th>compression-ratio</th>\n      <th>horsepower</th>\n      <th>peak-rpm</th>\n      <th>city-mpg</th>\n      <th>highway-mpg</th>\n      <th>price</th>\n    </tr>\n  </thead>\n  <tbody>\n    <tr>\n      <th>0</th>\n      <td>3</td>\n      <td>?</td>\n      <td>alfa-romero</td>\n      <td>gas</td>\n      <td>std</td>\n      <td>two</td>\n      <td>convertible</td>\n      <td>rwd</td>\n      <td>front</td>\n      <td>88.6</td>\n      <td>...</td>\n      <td>130</td>\n      <td>mpfi</td>\n      <td>3.47</td>\n      <td>2.68</td>\n      <td>9.0</td>\n      <td>111</td>\n      <td>5000</td>\n      <td>21</td>\n      <td>27</td>\n      <td>13495</td>\n    </tr>\n    <tr>\n      <th>1</th>\n      <td>3</td>\n      <td>?</td>\n      <td>alfa-romero</td>\n      <td>gas</td>\n      <td>std</td>\n      <td>two</td>\n      <td>convertible</td>\n      <td>rwd</td>\n      <td>front</td>\n      <td>88.6</td>\n      <td>...</td>\n      <td>130</td>\n      <td>mpfi</td>\n      <td>3.47</td>\n      <td>2.68</td>\n      <td>9.0</td>\n      <td>111</td>\n      <td>5000</td>\n      <td>21</td>\n      <td>27</td>\n      <td>16500</td>\n    </tr>\n    <tr>\n      <th>2</th>\n      <td>1</td>\n      <td>?</td>\n      <td>alfa-romero</td>\n      <td>gas</td>\n      <td>std</td>\n      <td>two</td>\n      <td>hatchback</td>\n      <td>rwd</td>\n      <td>front</td>\n      <td>94.5</td>\n      <td>...</td>\n      <td>152</td>\n      <td>mpfi</td>\n      <td>2.68</td>\n      <td>3.47</td>\n      <td>9.0</td>\n      <td>154</td>\n      <td>5000</td>\n      <td>19</td>\n      <td>26</td>\n      <td>16500</td>\n    </tr>\n    <tr>\n      <th>3</th>\n      <td>2</td>\n      <td>164</td>\n      <td>audi</td>\n      <td>gas</td>\n      <td>std</td>\n      <td>four</td>\n      <td>sedan</td>\n      <td>fwd</td>\n      <td>front</td>\n      <td>99.8</td>\n      <td>...</td>\n      <td>109</td>\n      <td>mpfi</td>\n      <td>3.19</td>\n      <td>3.4</td>\n      <td>10.0</td>\n      <td>102</td>\n      <td>5500</td>\n      <td>24</td>\n      <td>30</td>\n      <td>13950</td>\n    </tr>\n    <tr>\n      <th>4</th>\n      <td>2</td>\n      <td>164</td>\n      <td>audi</td>\n      <td>gas</td>\n      <td>std</td>\n      <td>four</td>\n      <td>sedan</td>\n      <td>4wd</td>\n      <td>front</td>\n      <td>99.4</td>\n      <td>...</td>\n      <td>136</td>\n      <td>mpfi</td>\n      <td>3.19</td>\n      <td>3.4</td>\n      <td>8.0</td>\n      <td>115</td>\n      <td>5500</td>\n      <td>18</td>\n      <td>22</td>\n      <td>17450</td>\n    </tr>\n  </tbody>\n</table>\n<p>5 rows × 26 columns</p>\n</div>"
     },
     "execution_count": 1,
     "metadata": {},
     "output_type": "execute_result"
    }
   ],
   "source": [
    "\n",
    "import pandas as pd\n",
    "import matplotlib.pyplot as plt\n",
    "import seaborn as sns\n",
    "from sklearn.feature_selection import f_classif\n",
    "from sklearn.ensemble import ExtraTreesClassifier\n",
    "\n",
    "from sklearn import preprocessing \n",
    "\n",
    "from sklearn.preprocessing import MinMaxScaler\n",
    "from sklearn.feature_selection import SelectPercentile\n",
    "\n",
    "\n",
    "\n",
    "df = pd.read_csv('Automobile_data.csv', sep = ',')\n",
    "df.head()"
   ]
  },
  {
   "cell_type": "code",
   "execution_count": 3,
   "outputs": [
    {
     "name": "stdout",
     "output_type": "stream",
     "text": [
      "<class 'pandas.core.frame.DataFrame'>\n",
      "RangeIndex: 205 entries, 0 to 204\n",
      "Data columns (total 26 columns):\n",
      " #   Column             Non-Null Count  Dtype  \n",
      "---  ------             --------------  -----  \n",
      " 0   symboling          205 non-null    int64  \n",
      " 1   normalized-losses  205 non-null    object \n",
      " 2   make               205 non-null    object \n",
      " 3   fuel-type          205 non-null    object \n",
      " 4   aspiration         205 non-null    object \n",
      " 5   num-of-doors       205 non-null    object \n",
      " 6   body-style         205 non-null    object \n",
      " 7   drive-wheels       205 non-null    object \n",
      " 8   engine-location    205 non-null    object \n",
      " 9   wheel-base         205 non-null    float64\n",
      " 10  length             205 non-null    float64\n",
      " 11  width              205 non-null    float64\n",
      " 12  height             205 non-null    float64\n",
      " 13  curb-weight        205 non-null    int64  \n",
      " 14  engine-type        205 non-null    object \n",
      " 15  num-of-cylinders   205 non-null    object \n",
      " 16  engine-size        205 non-null    int64  \n",
      " 17  fuel-system        205 non-null    object \n",
      " 18  bore               205 non-null    object \n",
      " 19  stroke             205 non-null    object \n",
      " 20  compression-ratio  205 non-null    float64\n",
      " 21  horsepower         205 non-null    object \n",
      " 22  peak-rpm           205 non-null    object \n",
      " 23  city-mpg           205 non-null    int64  \n",
      " 24  highway-mpg        205 non-null    int64  \n",
      " 25  price              205 non-null    object \n",
      "dtypes: float64(5), int64(5), object(16)\n",
      "memory usage: 41.8+ KB\n"
     ]
    }
   ],
   "source": [
    "df.info()"
   ],
   "metadata": {
    "collapsed": false,
    "ExecuteTime": {
     "end_time": "2023-11-24T11:30:32.505878600Z",
     "start_time": "2023-11-24T11:30:32.443092600Z"
    }
   },
   "id": "a8886db125186495"
  },
  {
   "cell_type": "markdown",
   "source": [
    "Вивів загальну інформацію про датафрейм де видно типи значень та кількість нульових значень. Нульових значень не виявлено"
   ],
   "metadata": {
    "collapsed": false
   },
   "id": "6ca3968ad9042ccc"
  },
  {
   "cell_type": "code",
   "execution_count": 4,
   "outputs": [
    {
     "data": {
      "text/plain": "0"
     },
     "execution_count": 4,
     "metadata": {},
     "output_type": "execute_result"
    }
   ],
   "source": [
    "df.duplicated().sum()"
   ],
   "metadata": {
    "collapsed": false,
    "ExecuteTime": {
     "end_time": "2023-11-24T11:34:11.127191800Z",
     "start_time": "2023-11-24T11:34:11.095839Z"
    }
   },
   "id": "d7000f5d4994bf5a"
  },
  {
   "cell_type": "markdown",
   "source": [
    "Оскільки нульових значень та дублікатів немає, то вирішив перевірити підозрілі значення."
   ],
   "metadata": {
    "collapsed": false
   },
   "id": "476c121cff4bd01b"
  },
  {
   "cell_type": "code",
   "execution_count": 5,
   "outputs": [
    {
     "data": {
      "text/plain": "symboling\n 0    67\n 1    54\n 2    32\n 3    27\n-1    22\n-2     3\nName: count, dtype: int64"
     },
     "execution_count": 5,
     "metadata": {},
     "output_type": "execute_result"
    }
   ],
   "source": [
    "df['symboling'].value_counts()"
   ],
   "metadata": {
    "collapsed": false,
    "ExecuteTime": {
     "end_time": "2023-11-24T11:37:48.325834300Z",
     "start_time": "2023-11-24T11:37:48.310808100Z"
    }
   },
   "id": "caea8af978b355fb"
  },
  {
   "cell_type": "code",
   "execution_count": 6,
   "outputs": [
    {
     "data": {
      "text/plain": "normalized-losses\n?      41\n161    11\n91      8\n150     7\n134     6\n128     6\n104     6\n85      5\n94      5\n65      5\n102     5\n74      5\n168     5\n103     5\n95      5\n106     4\n93      4\n118     4\n148     4\n122     4\n83      3\n125     3\n154     3\n115     3\n137     3\n101     3\n119     2\n87      2\n89      2\n192     2\n197     2\n158     2\n81      2\n188     2\n194     2\n153     2\n129     2\n108     2\n110     2\n164     2\n145     2\n113     2\n256     1\n107     1\n90      1\n231     1\n142     1\n121     1\n78      1\n98      1\n186     1\n77      1\nName: count, dtype: int64"
     },
     "execution_count": 6,
     "metadata": {},
     "output_type": "execute_result"
    }
   ],
   "source": [
    "df['normalized-losses'].value_counts()"
   ],
   "metadata": {
    "collapsed": false,
    "ExecuteTime": {
     "end_time": "2023-11-24T11:40:25.479552700Z",
     "start_time": "2023-11-24T11:40:25.448234900Z"
    }
   },
   "id": "15ff1c7522313cfc"
  },
  {
   "cell_type": "code",
   "execution_count": 7,
   "outputs": [
    {
     "data": {
      "text/plain": "price\n?        4\n8921     2\n18150    2\n8845     2\n8495     2\n        ..\n45400    1\n16503    1\n5389     1\n6189     1\n22625    1\nName: count, Length: 187, dtype: int64"
     },
     "execution_count": 7,
     "metadata": {},
     "output_type": "execute_result"
    }
   ],
   "source": [
    "df['price'].value_counts()"
   ],
   "metadata": {
    "collapsed": false,
    "ExecuteTime": {
     "end_time": "2023-11-24T11:40:49.302502700Z",
     "start_time": "2023-11-24T11:40:49.271014Z"
    }
   },
   "id": "aa9fc8794bec0497"
  },
  {
   "cell_type": "code",
   "execution_count": 8,
   "outputs": [
    {
     "data": {
      "text/plain": "bore\n3.62    23\n3.19    20\n3.15    15\n3.03    12\n2.97    12\n3.46     9\n3.31     8\n3.78     8\n3.43     8\n3.27     7\n2.91     7\n3.39     6\n3.54     6\n3.05     6\n3.58     6\n3.7      5\n3.01     5\n3.35     4\n?        4\n3.17     3\n3.59     3\n3.74     3\n3.47     2\n3.94     2\n3.24     2\n3.13     2\n3.63     2\n3.5      2\n3.8      2\n3.33     2\n2.54     1\n3.08     1\n3.61     1\n3.34     1\n3.6      1\n2.92     1\n3.76     1\n2.68     1\n2.99     1\nName: count, dtype: int64"
     },
     "execution_count": 8,
     "metadata": {},
     "output_type": "execute_result"
    }
   ],
   "source": [
    "df['bore'].value_counts()"
   ],
   "metadata": {
    "collapsed": false,
    "ExecuteTime": {
     "end_time": "2023-11-24T11:43:44.813767100Z",
     "start_time": "2023-11-24T11:43:44.782056900Z"
    }
   },
   "id": "9442d6449134066f"
  },
  {
   "cell_type": "code",
   "execution_count": 9,
   "outputs": [
    {
     "data": {
      "text/plain": "highway-mpg\n25    19\n38    17\n24    17\n30    16\n32    16\n34    14\n37    13\n28    13\n29    10\n33     9\n22     8\n31     8\n23     7\n27     5\n43     4\n42     3\n26     3\n41     3\n19     2\n39     2\n18     2\n16     2\n20     2\n36     2\n47     2\n46     2\n54     1\n17     1\n53     1\n50     1\nName: count, dtype: int64"
     },
     "execution_count": 9,
     "metadata": {},
     "output_type": "execute_result"
    }
   ],
   "source": [
    "df['highway-mpg'].value_counts()"
   ],
   "metadata": {
    "collapsed": false,
    "ExecuteTime": {
     "end_time": "2023-11-24T11:46:08.208714300Z",
     "start_time": "2023-11-24T11:46:08.145850300Z"
    }
   },
   "id": "f3a1fe374c3d0cca"
  },
  {
   "cell_type": "code",
   "execution_count": 10,
   "outputs": [
    {
     "data": {
      "text/plain": "engine-size\n122    15\n92     15\n97     14\n98     14\n108    13\n90     12\n110    12\n109     8\n120     7\n141     7\n152     6\n181     6\n146     6\n121     6\n156     5\n136     5\n91      5\n183     4\n130     4\n171     3\n70      3\n194     3\n209     3\n164     3\n258     2\n140     2\n134     2\n234     2\n132     2\n131     2\n173     1\n203     1\n161     1\n80      1\n151     1\n103     1\n304     1\n308     1\n326     1\n119     1\n111     1\n79      1\n61      1\n145     1\nName: count, dtype: int64"
     },
     "execution_count": 10,
     "metadata": {},
     "output_type": "execute_result"
    }
   ],
   "source": [
    "df['engine-size'].value_counts()"
   ],
   "metadata": {
    "collapsed": false,
    "ExecuteTime": {
     "end_time": "2023-11-24T11:46:40.847646200Z",
     "start_time": "2023-11-24T11:46:40.784762600Z"
    }
   },
   "id": "fd51c2e9e62ae47b"
  },
  {
   "cell_type": "code",
   "execution_count": 11,
   "outputs": [
    {
     "data": {
      "text/plain": "curb-weight\n2385    4\n1918    3\n2275    3\n1989    3\n2410    2\n       ..\n2370    1\n2328    1\n2833    1\n2921    1\n3062    1\nName: count, Length: 171, dtype: int64"
     },
     "execution_count": 11,
     "metadata": {},
     "output_type": "execute_result"
    }
   ],
   "source": [
    "df['curb-weight'].value_counts()"
   ],
   "metadata": {
    "collapsed": false,
    "ExecuteTime": {
     "end_time": "2023-11-24T11:47:22.372082Z",
     "start_time": "2023-11-24T11:47:22.293452200Z"
    }
   },
   "id": "72e89b6a4df95e0f"
  },
  {
   "cell_type": "code",
   "execution_count": 12,
   "outputs": [
    {
     "data": {
      "text/plain": "city-mpg\n31    28\n19    27\n24    22\n27    14\n17    13\n26    12\n23    12\n21     8\n25     8\n30     8\n38     7\n28     7\n16     6\n37     6\n22     4\n29     3\n15     3\n20     3\n18     3\n14     2\n34     1\n35     1\n32     1\n36     1\n45     1\n13     1\n49     1\n47     1\n33     1\nName: count, dtype: int64"
     },
     "execution_count": 12,
     "metadata": {},
     "output_type": "execute_result"
    }
   ],
   "source": [
    "df['city-mpg'].value_counts()"
   ],
   "metadata": {
    "collapsed": false,
    "ExecuteTime": {
     "end_time": "2023-11-24T11:47:46.921336700Z",
     "start_time": "2023-11-24T11:47:46.858482Z"
    }
   },
   "id": "49ad39e409e5bf0a"
  },
  {
   "cell_type": "markdown",
   "source": [
    "Таким чином після перевірки було виявлено значення ? "
   ],
   "metadata": {
    "collapsed": false
   },
   "id": "9a16550790f686c9"
  },
  {
   "cell_type": "code",
   "execution_count": 14,
   "outputs": [
    {
     "data": {
      "text/plain": "     symboling normalized-losses   make fuel-type aspiration num-of-doors  \\\n3            2               164   audi       gas        std         four   \n4            2               164   audi       gas        std         four   \n6            1               158   audi       gas        std         four   \n8            1               158   audi       gas      turbo         four   \n10           2               192    bmw       gas        std          two   \n..         ...               ...    ...       ...        ...          ...   \n200         -1                95  volvo       gas        std         four   \n201         -1                95  volvo       gas      turbo         four   \n202         -1                95  volvo       gas        std         four   \n203         -1                95  volvo    diesel      turbo         four   \n204         -1                95  volvo       gas      turbo         four   \n\n    body-style drive-wheels engine-location  wheel-base  ...  engine-size  \\\n3        sedan          fwd           front        99.8  ...          109   \n4        sedan          4wd           front        99.4  ...          136   \n6        sedan          fwd           front       105.8  ...          136   \n8        sedan          fwd           front       105.8  ...          131   \n10       sedan          rwd           front       101.2  ...          108   \n..         ...          ...             ...         ...  ...          ...   \n200      sedan          rwd           front       109.1  ...          141   \n201      sedan          rwd           front       109.1  ...          141   \n202      sedan          rwd           front       109.1  ...          173   \n203      sedan          rwd           front       109.1  ...          145   \n204      sedan          rwd           front       109.1  ...          141   \n\n     fuel-system  bore  stroke compression-ratio horsepower  peak-rpm  \\\n3           mpfi  3.19     3.4              10.0        102      5500   \n4           mpfi  3.19     3.4               8.0        115      5500   \n6           mpfi  3.19     3.4               8.5        110      5500   \n8           mpfi  3.13     3.4               8.3        140      5500   \n10          mpfi   3.5     2.8               8.8        101      5800   \n..           ...   ...     ...               ...        ...       ...   \n200         mpfi  3.78    3.15               9.5        114      5400   \n201         mpfi  3.78    3.15               8.7        160      5300   \n202         mpfi  3.58    2.87               8.8        134      5500   \n203          idi  3.01     3.4              23.0        106      4800   \n204         mpfi  3.78    3.15               9.5        114      5400   \n\n    city-mpg highway-mpg  price  \n3         24          30  13950  \n4         18          22  17450  \n6         19          25  17710  \n8         17          20  23875  \n10        23          29  16430  \n..       ...         ...    ...  \n200       23          28  16845  \n201       19          25  19045  \n202       18          23  21485  \n203       26          27  22470  \n204       19          25  22625  \n\n[159 rows x 26 columns]",
      "text/html": "<div>\n<style scoped>\n    .dataframe tbody tr th:only-of-type {\n        vertical-align: middle;\n    }\n\n    .dataframe tbody tr th {\n        vertical-align: top;\n    }\n\n    .dataframe thead th {\n        text-align: right;\n    }\n</style>\n<table border=\"1\" class=\"dataframe\">\n  <thead>\n    <tr style=\"text-align: right;\">\n      <th></th>\n      <th>symboling</th>\n      <th>normalized-losses</th>\n      <th>make</th>\n      <th>fuel-type</th>\n      <th>aspiration</th>\n      <th>num-of-doors</th>\n      <th>body-style</th>\n      <th>drive-wheels</th>\n      <th>engine-location</th>\n      <th>wheel-base</th>\n      <th>...</th>\n      <th>engine-size</th>\n      <th>fuel-system</th>\n      <th>bore</th>\n      <th>stroke</th>\n      <th>compression-ratio</th>\n      <th>horsepower</th>\n      <th>peak-rpm</th>\n      <th>city-mpg</th>\n      <th>highway-mpg</th>\n      <th>price</th>\n    </tr>\n  </thead>\n  <tbody>\n    <tr>\n      <th>3</th>\n      <td>2</td>\n      <td>164</td>\n      <td>audi</td>\n      <td>gas</td>\n      <td>std</td>\n      <td>four</td>\n      <td>sedan</td>\n      <td>fwd</td>\n      <td>front</td>\n      <td>99.8</td>\n      <td>...</td>\n      <td>109</td>\n      <td>mpfi</td>\n      <td>3.19</td>\n      <td>3.4</td>\n      <td>10.0</td>\n      <td>102</td>\n      <td>5500</td>\n      <td>24</td>\n      <td>30</td>\n      <td>13950</td>\n    </tr>\n    <tr>\n      <th>4</th>\n      <td>2</td>\n      <td>164</td>\n      <td>audi</td>\n      <td>gas</td>\n      <td>std</td>\n      <td>four</td>\n      <td>sedan</td>\n      <td>4wd</td>\n      <td>front</td>\n      <td>99.4</td>\n      <td>...</td>\n      <td>136</td>\n      <td>mpfi</td>\n      <td>3.19</td>\n      <td>3.4</td>\n      <td>8.0</td>\n      <td>115</td>\n      <td>5500</td>\n      <td>18</td>\n      <td>22</td>\n      <td>17450</td>\n    </tr>\n    <tr>\n      <th>6</th>\n      <td>1</td>\n      <td>158</td>\n      <td>audi</td>\n      <td>gas</td>\n      <td>std</td>\n      <td>four</td>\n      <td>sedan</td>\n      <td>fwd</td>\n      <td>front</td>\n      <td>105.8</td>\n      <td>...</td>\n      <td>136</td>\n      <td>mpfi</td>\n      <td>3.19</td>\n      <td>3.4</td>\n      <td>8.5</td>\n      <td>110</td>\n      <td>5500</td>\n      <td>19</td>\n      <td>25</td>\n      <td>17710</td>\n    </tr>\n    <tr>\n      <th>8</th>\n      <td>1</td>\n      <td>158</td>\n      <td>audi</td>\n      <td>gas</td>\n      <td>turbo</td>\n      <td>four</td>\n      <td>sedan</td>\n      <td>fwd</td>\n      <td>front</td>\n      <td>105.8</td>\n      <td>...</td>\n      <td>131</td>\n      <td>mpfi</td>\n      <td>3.13</td>\n      <td>3.4</td>\n      <td>8.3</td>\n      <td>140</td>\n      <td>5500</td>\n      <td>17</td>\n      <td>20</td>\n      <td>23875</td>\n    </tr>\n    <tr>\n      <th>10</th>\n      <td>2</td>\n      <td>192</td>\n      <td>bmw</td>\n      <td>gas</td>\n      <td>std</td>\n      <td>two</td>\n      <td>sedan</td>\n      <td>rwd</td>\n      <td>front</td>\n      <td>101.2</td>\n      <td>...</td>\n      <td>108</td>\n      <td>mpfi</td>\n      <td>3.5</td>\n      <td>2.8</td>\n      <td>8.8</td>\n      <td>101</td>\n      <td>5800</td>\n      <td>23</td>\n      <td>29</td>\n      <td>16430</td>\n    </tr>\n    <tr>\n      <th>...</th>\n      <td>...</td>\n      <td>...</td>\n      <td>...</td>\n      <td>...</td>\n      <td>...</td>\n      <td>...</td>\n      <td>...</td>\n      <td>...</td>\n      <td>...</td>\n      <td>...</td>\n      <td>...</td>\n      <td>...</td>\n      <td>...</td>\n      <td>...</td>\n      <td>...</td>\n      <td>...</td>\n      <td>...</td>\n      <td>...</td>\n      <td>...</td>\n      <td>...</td>\n      <td>...</td>\n    </tr>\n    <tr>\n      <th>200</th>\n      <td>-1</td>\n      <td>95</td>\n      <td>volvo</td>\n      <td>gas</td>\n      <td>std</td>\n      <td>four</td>\n      <td>sedan</td>\n      <td>rwd</td>\n      <td>front</td>\n      <td>109.1</td>\n      <td>...</td>\n      <td>141</td>\n      <td>mpfi</td>\n      <td>3.78</td>\n      <td>3.15</td>\n      <td>9.5</td>\n      <td>114</td>\n      <td>5400</td>\n      <td>23</td>\n      <td>28</td>\n      <td>16845</td>\n    </tr>\n    <tr>\n      <th>201</th>\n      <td>-1</td>\n      <td>95</td>\n      <td>volvo</td>\n      <td>gas</td>\n      <td>turbo</td>\n      <td>four</td>\n      <td>sedan</td>\n      <td>rwd</td>\n      <td>front</td>\n      <td>109.1</td>\n      <td>...</td>\n      <td>141</td>\n      <td>mpfi</td>\n      <td>3.78</td>\n      <td>3.15</td>\n      <td>8.7</td>\n      <td>160</td>\n      <td>5300</td>\n      <td>19</td>\n      <td>25</td>\n      <td>19045</td>\n    </tr>\n    <tr>\n      <th>202</th>\n      <td>-1</td>\n      <td>95</td>\n      <td>volvo</td>\n      <td>gas</td>\n      <td>std</td>\n      <td>four</td>\n      <td>sedan</td>\n      <td>rwd</td>\n      <td>front</td>\n      <td>109.1</td>\n      <td>...</td>\n      <td>173</td>\n      <td>mpfi</td>\n      <td>3.58</td>\n      <td>2.87</td>\n      <td>8.8</td>\n      <td>134</td>\n      <td>5500</td>\n      <td>18</td>\n      <td>23</td>\n      <td>21485</td>\n    </tr>\n    <tr>\n      <th>203</th>\n      <td>-1</td>\n      <td>95</td>\n      <td>volvo</td>\n      <td>diesel</td>\n      <td>turbo</td>\n      <td>four</td>\n      <td>sedan</td>\n      <td>rwd</td>\n      <td>front</td>\n      <td>109.1</td>\n      <td>...</td>\n      <td>145</td>\n      <td>idi</td>\n      <td>3.01</td>\n      <td>3.4</td>\n      <td>23.0</td>\n      <td>106</td>\n      <td>4800</td>\n      <td>26</td>\n      <td>27</td>\n      <td>22470</td>\n    </tr>\n    <tr>\n      <th>204</th>\n      <td>-1</td>\n      <td>95</td>\n      <td>volvo</td>\n      <td>gas</td>\n      <td>turbo</td>\n      <td>four</td>\n      <td>sedan</td>\n      <td>rwd</td>\n      <td>front</td>\n      <td>109.1</td>\n      <td>...</td>\n      <td>141</td>\n      <td>mpfi</td>\n      <td>3.78</td>\n      <td>3.15</td>\n      <td>9.5</td>\n      <td>114</td>\n      <td>5400</td>\n      <td>19</td>\n      <td>25</td>\n      <td>22625</td>\n    </tr>\n  </tbody>\n</table>\n<p>159 rows × 26 columns</p>\n</div>"
     },
     "execution_count": 14,
     "metadata": {},
     "output_type": "execute_result"
    }
   ],
   "source": [
    "indexNormalizedLosses = df[df['normalized-losses'] == '?'].index\n",
    "df.drop(indexNormalizedLosses , inplace=True)\n",
    "indexPrice = df[df['price'] == '?'].index\n",
    "df.drop(indexPrice , inplace=True)\n",
    "indexNumOfDoors = df[df['num-of-doors'] == '?'].index\n",
    "df.drop(indexNumOfDoors , inplace=True)\n",
    "indexBore = df[df['bore'] == '?'].index\n",
    "df.drop(indexBore , inplace=True)\n",
    "indexStroke = df[df['stroke'] == '?'].index\n",
    "df.drop(indexStroke , inplace=True)\n",
    "indexPeakRPM = df[df['peak-rpm'] == '?'].index\n",
    "df.drop(indexPeakRPM , inplace=True)\n",
    "indexHorsepower = df[df['horsepower'] == '?'].index\n",
    "df.drop(indexHorsepower , inplace=True)\n",
    "df"
   ],
   "metadata": {
    "collapsed": false,
    "ExecuteTime": {
     "end_time": "2023-11-24T11:51:41.073716Z",
     "start_time": "2023-11-24T11:51:41.026621200Z"
    }
   },
   "id": "adadb0fc2fdc30f1"
  },
  {
   "cell_type": "markdown",
   "source": [
    "Таким чином було видалено рядки із значенням '?'"
   ],
   "metadata": {
    "collapsed": false
   },
   "id": "80b9798f63058f26"
  },
  {
   "cell_type": "code",
   "execution_count": 16,
   "outputs": [
    {
     "name": "stdout",
     "output_type": "stream",
     "text": [
      "<class 'pandas.core.frame.DataFrame'>\n",
      "Index: 159 entries, 3 to 204\n",
      "Data columns (total 26 columns):\n",
      " #   Column             Non-Null Count  Dtype  \n",
      "---  ------             --------------  -----  \n",
      " 0   symboling          159 non-null    int64  \n",
      " 1   normalized-losses  159 non-null    int64  \n",
      " 2   make               159 non-null    object \n",
      " 3   fuel-type          159 non-null    object \n",
      " 4   aspiration         159 non-null    object \n",
      " 5   num-of-doors       159 non-null    object \n",
      " 6   body-style         159 non-null    object \n",
      " 7   drive-wheels       159 non-null    object \n",
      " 8   engine-location    159 non-null    object \n",
      " 9   wheel-base         159 non-null    float64\n",
      " 10  length             159 non-null    float64\n",
      " 11  width              159 non-null    float64\n",
      " 12  height             159 non-null    float64\n",
      " 13  curb-weight        159 non-null    int64  \n",
      " 14  engine-type        159 non-null    object \n",
      " 15  num-of-cylinders   159 non-null    object \n",
      " 16  engine-size        159 non-null    int64  \n",
      " 17  fuel-system        159 non-null    object \n",
      " 18  bore               159 non-null    float64\n",
      " 19  stroke             159 non-null    float64\n",
      " 20  compression-ratio  159 non-null    float64\n",
      " 21  horsepower         159 non-null    int64  \n",
      " 22  peak-rpm           159 non-null    int64  \n",
      " 23  city-mpg           159 non-null    int64  \n",
      " 24  highway-mpg        159 non-null    int64  \n",
      " 25  price              159 non-null    int64  \n",
      "dtypes: float64(7), int64(9), object(10)\n",
      "memory usage: 33.5+ KB\n"
     ]
    }
   ],
   "source": [
    "df = df.apply(pd.to_numeric, errors='ignore')\n",
    "df.info()"
   ],
   "metadata": {
    "collapsed": false,
    "ExecuteTime": {
     "end_time": "2023-11-24T12:03:13.021919900Z",
     "start_time": "2023-11-24T12:03:12.959110200Z"
    }
   },
   "id": "4898b5e589a5d692"
  },
  {
   "cell_type": "markdown",
   "source": [
    "Тепер типи даних відповідають тим що в таблиці. "
   ],
   "metadata": {
    "collapsed": false
   },
   "id": "2ee65c1aa175b3ea"
  },
  {
   "cell_type": "markdown",
   "source": [
    "Після чого розділив дані на числові та категоріальні"
   ],
   "metadata": {
    "collapsed": false
   },
   "id": "7ab97d0b57f4d295"
  },
  {
   "cell_type": "code",
   "execution_count": 22,
   "outputs": [
    {
     "data": {
      "text/plain": "     symboling  normalized-losses  wheel-base  length  width  height  \\\n3            2                164        99.8   176.6   66.2    54.3   \n4            2                164        99.4   176.6   66.4    54.3   \n6            1                158       105.8   192.7   71.4    55.7   \n8            1                158       105.8   192.7   71.4    55.9   \n10           2                192       101.2   176.8   64.8    54.3   \n..         ...                ...         ...     ...    ...     ...   \n200         -1                 95       109.1   188.8   68.9    55.5   \n201         -1                 95       109.1   188.8   68.8    55.5   \n202         -1                 95       109.1   188.8   68.9    55.5   \n203         -1                 95       109.1   188.8   68.9    55.5   \n204         -1                 95       109.1   188.8   68.9    55.5   \n\n     curb-weight  engine-size  bore  stroke  compression-ratio  horsepower  \\\n3           2337          109  3.19    3.40               10.0         102   \n4           2824          136  3.19    3.40                8.0         115   \n6           2844          136  3.19    3.40                8.5         110   \n8           3086          131  3.13    3.40                8.3         140   \n10          2395          108  3.50    2.80                8.8         101   \n..           ...          ...   ...     ...                ...         ...   \n200         2952          141  3.78    3.15                9.5         114   \n201         3049          141  3.78    3.15                8.7         160   \n202         3012          173  3.58    2.87                8.8         134   \n203         3217          145  3.01    3.40               23.0         106   \n204         3062          141  3.78    3.15                9.5         114   \n\n     peak-rpm  city-mpg  highway-mpg  price  \n3        5500        24           30  13950  \n4        5500        18           22  17450  \n6        5500        19           25  17710  \n8        5500        17           20  23875  \n10       5800        23           29  16430  \n..        ...       ...          ...    ...  \n200      5400        23           28  16845  \n201      5300        19           25  19045  \n202      5500        18           23  21485  \n203      4800        26           27  22470  \n204      5400        19           25  22625  \n\n[159 rows x 16 columns]",
      "text/html": "<div>\n<style scoped>\n    .dataframe tbody tr th:only-of-type {\n        vertical-align: middle;\n    }\n\n    .dataframe tbody tr th {\n        vertical-align: top;\n    }\n\n    .dataframe thead th {\n        text-align: right;\n    }\n</style>\n<table border=\"1\" class=\"dataframe\">\n  <thead>\n    <tr style=\"text-align: right;\">\n      <th></th>\n      <th>symboling</th>\n      <th>normalized-losses</th>\n      <th>wheel-base</th>\n      <th>length</th>\n      <th>width</th>\n      <th>height</th>\n      <th>curb-weight</th>\n      <th>engine-size</th>\n      <th>bore</th>\n      <th>stroke</th>\n      <th>compression-ratio</th>\n      <th>horsepower</th>\n      <th>peak-rpm</th>\n      <th>city-mpg</th>\n      <th>highway-mpg</th>\n      <th>price</th>\n    </tr>\n  </thead>\n  <tbody>\n    <tr>\n      <th>3</th>\n      <td>2</td>\n      <td>164</td>\n      <td>99.8</td>\n      <td>176.6</td>\n      <td>66.2</td>\n      <td>54.3</td>\n      <td>2337</td>\n      <td>109</td>\n      <td>3.19</td>\n      <td>3.40</td>\n      <td>10.0</td>\n      <td>102</td>\n      <td>5500</td>\n      <td>24</td>\n      <td>30</td>\n      <td>13950</td>\n    </tr>\n    <tr>\n      <th>4</th>\n      <td>2</td>\n      <td>164</td>\n      <td>99.4</td>\n      <td>176.6</td>\n      <td>66.4</td>\n      <td>54.3</td>\n      <td>2824</td>\n      <td>136</td>\n      <td>3.19</td>\n      <td>3.40</td>\n      <td>8.0</td>\n      <td>115</td>\n      <td>5500</td>\n      <td>18</td>\n      <td>22</td>\n      <td>17450</td>\n    </tr>\n    <tr>\n      <th>6</th>\n      <td>1</td>\n      <td>158</td>\n      <td>105.8</td>\n      <td>192.7</td>\n      <td>71.4</td>\n      <td>55.7</td>\n      <td>2844</td>\n      <td>136</td>\n      <td>3.19</td>\n      <td>3.40</td>\n      <td>8.5</td>\n      <td>110</td>\n      <td>5500</td>\n      <td>19</td>\n      <td>25</td>\n      <td>17710</td>\n    </tr>\n    <tr>\n      <th>8</th>\n      <td>1</td>\n      <td>158</td>\n      <td>105.8</td>\n      <td>192.7</td>\n      <td>71.4</td>\n      <td>55.9</td>\n      <td>3086</td>\n      <td>131</td>\n      <td>3.13</td>\n      <td>3.40</td>\n      <td>8.3</td>\n      <td>140</td>\n      <td>5500</td>\n      <td>17</td>\n      <td>20</td>\n      <td>23875</td>\n    </tr>\n    <tr>\n      <th>10</th>\n      <td>2</td>\n      <td>192</td>\n      <td>101.2</td>\n      <td>176.8</td>\n      <td>64.8</td>\n      <td>54.3</td>\n      <td>2395</td>\n      <td>108</td>\n      <td>3.50</td>\n      <td>2.80</td>\n      <td>8.8</td>\n      <td>101</td>\n      <td>5800</td>\n      <td>23</td>\n      <td>29</td>\n      <td>16430</td>\n    </tr>\n    <tr>\n      <th>...</th>\n      <td>...</td>\n      <td>...</td>\n      <td>...</td>\n      <td>...</td>\n      <td>...</td>\n      <td>...</td>\n      <td>...</td>\n      <td>...</td>\n      <td>...</td>\n      <td>...</td>\n      <td>...</td>\n      <td>...</td>\n      <td>...</td>\n      <td>...</td>\n      <td>...</td>\n      <td>...</td>\n    </tr>\n    <tr>\n      <th>200</th>\n      <td>-1</td>\n      <td>95</td>\n      <td>109.1</td>\n      <td>188.8</td>\n      <td>68.9</td>\n      <td>55.5</td>\n      <td>2952</td>\n      <td>141</td>\n      <td>3.78</td>\n      <td>3.15</td>\n      <td>9.5</td>\n      <td>114</td>\n      <td>5400</td>\n      <td>23</td>\n      <td>28</td>\n      <td>16845</td>\n    </tr>\n    <tr>\n      <th>201</th>\n      <td>-1</td>\n      <td>95</td>\n      <td>109.1</td>\n      <td>188.8</td>\n      <td>68.8</td>\n      <td>55.5</td>\n      <td>3049</td>\n      <td>141</td>\n      <td>3.78</td>\n      <td>3.15</td>\n      <td>8.7</td>\n      <td>160</td>\n      <td>5300</td>\n      <td>19</td>\n      <td>25</td>\n      <td>19045</td>\n    </tr>\n    <tr>\n      <th>202</th>\n      <td>-1</td>\n      <td>95</td>\n      <td>109.1</td>\n      <td>188.8</td>\n      <td>68.9</td>\n      <td>55.5</td>\n      <td>3012</td>\n      <td>173</td>\n      <td>3.58</td>\n      <td>2.87</td>\n      <td>8.8</td>\n      <td>134</td>\n      <td>5500</td>\n      <td>18</td>\n      <td>23</td>\n      <td>21485</td>\n    </tr>\n    <tr>\n      <th>203</th>\n      <td>-1</td>\n      <td>95</td>\n      <td>109.1</td>\n      <td>188.8</td>\n      <td>68.9</td>\n      <td>55.5</td>\n      <td>3217</td>\n      <td>145</td>\n      <td>3.01</td>\n      <td>3.40</td>\n      <td>23.0</td>\n      <td>106</td>\n      <td>4800</td>\n      <td>26</td>\n      <td>27</td>\n      <td>22470</td>\n    </tr>\n    <tr>\n      <th>204</th>\n      <td>-1</td>\n      <td>95</td>\n      <td>109.1</td>\n      <td>188.8</td>\n      <td>68.9</td>\n      <td>55.5</td>\n      <td>3062</td>\n      <td>141</td>\n      <td>3.78</td>\n      <td>3.15</td>\n      <td>9.5</td>\n      <td>114</td>\n      <td>5400</td>\n      <td>19</td>\n      <td>25</td>\n      <td>22625</td>\n    </tr>\n  </tbody>\n</table>\n<p>159 rows × 16 columns</p>\n</div>"
     },
     "execution_count": 22,
     "metadata": {},
     "output_type": "execute_result"
    }
   ],
   "source": [
    "num_data = df.select_dtypes(exclude='object')\n",
    "num_data"
   ],
   "metadata": {
    "collapsed": false,
    "ExecuteTime": {
     "end_time": "2023-11-24T12:47:29.848554200Z",
     "start_time": "2023-11-24T12:47:29.785604Z"
    }
   },
   "id": "56c6d001dda659fb"
  },
  {
   "cell_type": "code",
   "execution_count": 23,
   "outputs": [
    {
     "name": "stdout",
     "output_type": "stream",
     "text": [
      "<class 'pandas.core.frame.DataFrame'>\n",
      "Index: 159 entries, 3 to 204\n",
      "Data columns (total 16 columns):\n",
      " #   Column             Non-Null Count  Dtype  \n",
      "---  ------             --------------  -----  \n",
      " 0   symboling          159 non-null    int64  \n",
      " 1   normalized-losses  159 non-null    int64  \n",
      " 2   wheel-base         159 non-null    float64\n",
      " 3   length             159 non-null    float64\n",
      " 4   width              159 non-null    float64\n",
      " 5   height             159 non-null    float64\n",
      " 6   curb-weight        159 non-null    int64  \n",
      " 7   engine-size        159 non-null    int64  \n",
      " 8   bore               159 non-null    float64\n",
      " 9   stroke             159 non-null    float64\n",
      " 10  compression-ratio  159 non-null    float64\n",
      " 11  horsepower         159 non-null    int64  \n",
      " 12  peak-rpm           159 non-null    int64  \n",
      " 13  city-mpg           159 non-null    int64  \n",
      " 14  highway-mpg        159 non-null    int64  \n",
      " 15  price              159 non-null    int64  \n",
      "dtypes: float64(7), int64(9)\n",
      "memory usage: 21.1 KB\n"
     ]
    }
   ],
   "source": [
    "num_data.info()"
   ],
   "metadata": {
    "collapsed": false,
    "ExecuteTime": {
     "end_time": "2023-11-24T12:47:59.192468800Z",
     "start_time": "2023-11-24T12:47:59.129795700Z"
    }
   },
   "id": "be386a8de134568f"
  },
  {
   "cell_type": "markdown",
   "source": [],
   "metadata": {
    "collapsed": false
   },
   "id": "39b4aae9dcdde5a4"
  },
  {
   "cell_type": "code",
   "execution_count": 24,
   "outputs": [
    {
     "data": {
      "text/plain": "      make fuel-type aspiration num-of-doors body-style drive-wheels  \\\n3     audi       gas        std         four      sedan          fwd   \n4     audi       gas        std         four      sedan          4wd   \n6     audi       gas        std         four      sedan          fwd   \n8     audi       gas      turbo         four      sedan          fwd   \n10     bmw       gas        std          two      sedan          rwd   \n..     ...       ...        ...          ...        ...          ...   \n200  volvo       gas        std         four      sedan          rwd   \n201  volvo       gas      turbo         four      sedan          rwd   \n202  volvo       gas        std         four      sedan          rwd   \n203  volvo    diesel      turbo         four      sedan          rwd   \n204  volvo       gas      turbo         four      sedan          rwd   \n\n    engine-location engine-type num-of-cylinders fuel-system  \n3             front         ohc             four        mpfi  \n4             front         ohc             five        mpfi  \n6             front         ohc             five        mpfi  \n8             front         ohc             five        mpfi  \n10            front         ohc             four        mpfi  \n..              ...         ...              ...         ...  \n200           front         ohc             four        mpfi  \n201           front         ohc             four        mpfi  \n202           front        ohcv              six        mpfi  \n203           front         ohc              six         idi  \n204           front         ohc             four        mpfi  \n\n[159 rows x 10 columns]",
      "text/html": "<div>\n<style scoped>\n    .dataframe tbody tr th:only-of-type {\n        vertical-align: middle;\n    }\n\n    .dataframe tbody tr th {\n        vertical-align: top;\n    }\n\n    .dataframe thead th {\n        text-align: right;\n    }\n</style>\n<table border=\"1\" class=\"dataframe\">\n  <thead>\n    <tr style=\"text-align: right;\">\n      <th></th>\n      <th>make</th>\n      <th>fuel-type</th>\n      <th>aspiration</th>\n      <th>num-of-doors</th>\n      <th>body-style</th>\n      <th>drive-wheels</th>\n      <th>engine-location</th>\n      <th>engine-type</th>\n      <th>num-of-cylinders</th>\n      <th>fuel-system</th>\n    </tr>\n  </thead>\n  <tbody>\n    <tr>\n      <th>3</th>\n      <td>audi</td>\n      <td>gas</td>\n      <td>std</td>\n      <td>four</td>\n      <td>sedan</td>\n      <td>fwd</td>\n      <td>front</td>\n      <td>ohc</td>\n      <td>four</td>\n      <td>mpfi</td>\n    </tr>\n    <tr>\n      <th>4</th>\n      <td>audi</td>\n      <td>gas</td>\n      <td>std</td>\n      <td>four</td>\n      <td>sedan</td>\n      <td>4wd</td>\n      <td>front</td>\n      <td>ohc</td>\n      <td>five</td>\n      <td>mpfi</td>\n    </tr>\n    <tr>\n      <th>6</th>\n      <td>audi</td>\n      <td>gas</td>\n      <td>std</td>\n      <td>four</td>\n      <td>sedan</td>\n      <td>fwd</td>\n      <td>front</td>\n      <td>ohc</td>\n      <td>five</td>\n      <td>mpfi</td>\n    </tr>\n    <tr>\n      <th>8</th>\n      <td>audi</td>\n      <td>gas</td>\n      <td>turbo</td>\n      <td>four</td>\n      <td>sedan</td>\n      <td>fwd</td>\n      <td>front</td>\n      <td>ohc</td>\n      <td>five</td>\n      <td>mpfi</td>\n    </tr>\n    <tr>\n      <th>10</th>\n      <td>bmw</td>\n      <td>gas</td>\n      <td>std</td>\n      <td>two</td>\n      <td>sedan</td>\n      <td>rwd</td>\n      <td>front</td>\n      <td>ohc</td>\n      <td>four</td>\n      <td>mpfi</td>\n    </tr>\n    <tr>\n      <th>...</th>\n      <td>...</td>\n      <td>...</td>\n      <td>...</td>\n      <td>...</td>\n      <td>...</td>\n      <td>...</td>\n      <td>...</td>\n      <td>...</td>\n      <td>...</td>\n      <td>...</td>\n    </tr>\n    <tr>\n      <th>200</th>\n      <td>volvo</td>\n      <td>gas</td>\n      <td>std</td>\n      <td>four</td>\n      <td>sedan</td>\n      <td>rwd</td>\n      <td>front</td>\n      <td>ohc</td>\n      <td>four</td>\n      <td>mpfi</td>\n    </tr>\n    <tr>\n      <th>201</th>\n      <td>volvo</td>\n      <td>gas</td>\n      <td>turbo</td>\n      <td>four</td>\n      <td>sedan</td>\n      <td>rwd</td>\n      <td>front</td>\n      <td>ohc</td>\n      <td>four</td>\n      <td>mpfi</td>\n    </tr>\n    <tr>\n      <th>202</th>\n      <td>volvo</td>\n      <td>gas</td>\n      <td>std</td>\n      <td>four</td>\n      <td>sedan</td>\n      <td>rwd</td>\n      <td>front</td>\n      <td>ohcv</td>\n      <td>six</td>\n      <td>mpfi</td>\n    </tr>\n    <tr>\n      <th>203</th>\n      <td>volvo</td>\n      <td>diesel</td>\n      <td>turbo</td>\n      <td>four</td>\n      <td>sedan</td>\n      <td>rwd</td>\n      <td>front</td>\n      <td>ohc</td>\n      <td>six</td>\n      <td>idi</td>\n    </tr>\n    <tr>\n      <th>204</th>\n      <td>volvo</td>\n      <td>gas</td>\n      <td>turbo</td>\n      <td>four</td>\n      <td>sedan</td>\n      <td>rwd</td>\n      <td>front</td>\n      <td>ohc</td>\n      <td>four</td>\n      <td>mpfi</td>\n    </tr>\n  </tbody>\n</table>\n<p>159 rows × 10 columns</p>\n</div>"
     },
     "execution_count": 24,
     "metadata": {},
     "output_type": "execute_result"
    }
   ],
   "source": [
    "cat_data = df.select_dtypes(include='object')\n",
    "cat_data"
   ],
   "metadata": {
    "collapsed": false,
    "ExecuteTime": {
     "end_time": "2023-11-24T12:56:19.933199300Z",
     "start_time": "2023-11-24T12:56:19.854392600Z"
    }
   },
   "id": "987cd8512a0f491"
  },
  {
   "cell_type": "code",
   "execution_count": 25,
   "outputs": [
    {
     "name": "stdout",
     "output_type": "stream",
     "text": [
      "<class 'pandas.core.frame.DataFrame'>\n",
      "Index: 159 entries, 3 to 204\n",
      "Data columns (total 10 columns):\n",
      " #   Column            Non-Null Count  Dtype \n",
      "---  ------            --------------  ----- \n",
      " 0   make              159 non-null    object\n",
      " 1   fuel-type         159 non-null    object\n",
      " 2   aspiration        159 non-null    object\n",
      " 3   num-of-doors      159 non-null    object\n",
      " 4   body-style        159 non-null    object\n",
      " 5   drive-wheels      159 non-null    object\n",
      " 6   engine-location   159 non-null    object\n",
      " 7   engine-type       159 non-null    object\n",
      " 8   num-of-cylinders  159 non-null    object\n",
      " 9   fuel-system       159 non-null    object\n",
      "dtypes: object(10)\n",
      "memory usage: 13.7+ KB\n"
     ]
    }
   ],
   "source": [
    "cat_data.info()"
   ],
   "metadata": {
    "collapsed": false,
    "ExecuteTime": {
     "end_time": "2023-11-24T12:56:34.239488600Z",
     "start_time": "2023-11-24T12:56:34.222467800Z"
    }
   },
   "id": "d37e517fc2bff0a"
  },
  {
   "cell_type": "code",
   "execution_count": 28,
   "outputs": [
    {
     "data": {
      "text/plain": "     symboling  normalized-losses  wheel-base  length  width  height  \\\n3            2                164        99.8   176.6   66.2    54.3   \n4            2                164        99.4   176.6   66.4    54.3   \n6            1                158       105.8   192.7   71.4    55.7   \n8            1                158       105.8   192.7   71.4    55.9   \n10           2                192       101.2   176.8   64.8    54.3   \n..         ...                ...         ...     ...    ...     ...   \n200         -1                 95       109.1   188.8   68.9    55.5   \n201         -1                 95       109.1   188.8   68.8    55.5   \n202         -1                 95       109.1   188.8   68.9    55.5   \n203         -1                 95       109.1   188.8   68.9    55.5   \n204         -1                 95       109.1   188.8   68.9    55.5   \n\n     curb-weight  engine-size  compression-ratio  horsepower  peak-rpm  \\\n3           2337          109               10.0         102      5500   \n4           2824          136                8.0         115      5500   \n6           2844          136                8.5         110      5500   \n8           3086          131                8.3         140      5500   \n10          2395          108                8.8         101      5800   \n..           ...          ...                ...         ...       ...   \n200         2952          141                9.5         114      5400   \n201         3049          141                8.7         160      5300   \n202         3012          173                8.8         134      5500   \n203         3217          145               23.0         106      4800   \n204         3062          141                9.5         114      5400   \n\n     city-mpg  highway-mpg  price  \n3          24           30  13950  \n4          18           22  17450  \n6          19           25  17710  \n8          17           20  23875  \n10         23           29  16430  \n..        ...          ...    ...  \n200        23           28  16845  \n201        19           25  19045  \n202        18           23  21485  \n203        26           27  22470  \n204        19           25  22625  \n\n[159 rows x 14 columns]",
      "text/html": "<div>\n<style scoped>\n    .dataframe tbody tr th:only-of-type {\n        vertical-align: middle;\n    }\n\n    .dataframe tbody tr th {\n        vertical-align: top;\n    }\n\n    .dataframe thead th {\n        text-align: right;\n    }\n</style>\n<table border=\"1\" class=\"dataframe\">\n  <thead>\n    <tr style=\"text-align: right;\">\n      <th></th>\n      <th>symboling</th>\n      <th>normalized-losses</th>\n      <th>wheel-base</th>\n      <th>length</th>\n      <th>width</th>\n      <th>height</th>\n      <th>curb-weight</th>\n      <th>engine-size</th>\n      <th>compression-ratio</th>\n      <th>horsepower</th>\n      <th>peak-rpm</th>\n      <th>city-mpg</th>\n      <th>highway-mpg</th>\n      <th>price</th>\n    </tr>\n  </thead>\n  <tbody>\n    <tr>\n      <th>3</th>\n      <td>2</td>\n      <td>164</td>\n      <td>99.8</td>\n      <td>176.6</td>\n      <td>66.2</td>\n      <td>54.3</td>\n      <td>2337</td>\n      <td>109</td>\n      <td>10.0</td>\n      <td>102</td>\n      <td>5500</td>\n      <td>24</td>\n      <td>30</td>\n      <td>13950</td>\n    </tr>\n    <tr>\n      <th>4</th>\n      <td>2</td>\n      <td>164</td>\n      <td>99.4</td>\n      <td>176.6</td>\n      <td>66.4</td>\n      <td>54.3</td>\n      <td>2824</td>\n      <td>136</td>\n      <td>8.0</td>\n      <td>115</td>\n      <td>5500</td>\n      <td>18</td>\n      <td>22</td>\n      <td>17450</td>\n    </tr>\n    <tr>\n      <th>6</th>\n      <td>1</td>\n      <td>158</td>\n      <td>105.8</td>\n      <td>192.7</td>\n      <td>71.4</td>\n      <td>55.7</td>\n      <td>2844</td>\n      <td>136</td>\n      <td>8.5</td>\n      <td>110</td>\n      <td>5500</td>\n      <td>19</td>\n      <td>25</td>\n      <td>17710</td>\n    </tr>\n    <tr>\n      <th>8</th>\n      <td>1</td>\n      <td>158</td>\n      <td>105.8</td>\n      <td>192.7</td>\n      <td>71.4</td>\n      <td>55.9</td>\n      <td>3086</td>\n      <td>131</td>\n      <td>8.3</td>\n      <td>140</td>\n      <td>5500</td>\n      <td>17</td>\n      <td>20</td>\n      <td>23875</td>\n    </tr>\n    <tr>\n      <th>10</th>\n      <td>2</td>\n      <td>192</td>\n      <td>101.2</td>\n      <td>176.8</td>\n      <td>64.8</td>\n      <td>54.3</td>\n      <td>2395</td>\n      <td>108</td>\n      <td>8.8</td>\n      <td>101</td>\n      <td>5800</td>\n      <td>23</td>\n      <td>29</td>\n      <td>16430</td>\n    </tr>\n    <tr>\n      <th>...</th>\n      <td>...</td>\n      <td>...</td>\n      <td>...</td>\n      <td>...</td>\n      <td>...</td>\n      <td>...</td>\n      <td>...</td>\n      <td>...</td>\n      <td>...</td>\n      <td>...</td>\n      <td>...</td>\n      <td>...</td>\n      <td>...</td>\n      <td>...</td>\n    </tr>\n    <tr>\n      <th>200</th>\n      <td>-1</td>\n      <td>95</td>\n      <td>109.1</td>\n      <td>188.8</td>\n      <td>68.9</td>\n      <td>55.5</td>\n      <td>2952</td>\n      <td>141</td>\n      <td>9.5</td>\n      <td>114</td>\n      <td>5400</td>\n      <td>23</td>\n      <td>28</td>\n      <td>16845</td>\n    </tr>\n    <tr>\n      <th>201</th>\n      <td>-1</td>\n      <td>95</td>\n      <td>109.1</td>\n      <td>188.8</td>\n      <td>68.8</td>\n      <td>55.5</td>\n      <td>3049</td>\n      <td>141</td>\n      <td>8.7</td>\n      <td>160</td>\n      <td>5300</td>\n      <td>19</td>\n      <td>25</td>\n      <td>19045</td>\n    </tr>\n    <tr>\n      <th>202</th>\n      <td>-1</td>\n      <td>95</td>\n      <td>109.1</td>\n      <td>188.8</td>\n      <td>68.9</td>\n      <td>55.5</td>\n      <td>3012</td>\n      <td>173</td>\n      <td>8.8</td>\n      <td>134</td>\n      <td>5500</td>\n      <td>18</td>\n      <td>23</td>\n      <td>21485</td>\n    </tr>\n    <tr>\n      <th>203</th>\n      <td>-1</td>\n      <td>95</td>\n      <td>109.1</td>\n      <td>188.8</td>\n      <td>68.9</td>\n      <td>55.5</td>\n      <td>3217</td>\n      <td>145</td>\n      <td>23.0</td>\n      <td>106</td>\n      <td>4800</td>\n      <td>26</td>\n      <td>27</td>\n      <td>22470</td>\n    </tr>\n    <tr>\n      <th>204</th>\n      <td>-1</td>\n      <td>95</td>\n      <td>109.1</td>\n      <td>188.8</td>\n      <td>68.9</td>\n      <td>55.5</td>\n      <td>3062</td>\n      <td>141</td>\n      <td>9.5</td>\n      <td>114</td>\n      <td>5400</td>\n      <td>19</td>\n      <td>25</td>\n      <td>22625</td>\n    </tr>\n  </tbody>\n</table>\n<p>159 rows × 14 columns</p>\n</div>"
     },
     "execution_count": 28,
     "metadata": {},
     "output_type": "execute_result"
    }
   ],
   "source": [
    "from sklearn.feature_selection import VarianceThreshold\n",
    "\n",
    "sel = VarianceThreshold(0.6)\n",
    "sel.fit(num_data)\n",
    "\n",
    "variancethreshold_data = num_data[num_data.columns[sel.get_support(indices=True)]]\n",
    "variancethreshold_data"
   ],
   "metadata": {
    "collapsed": false,
    "ExecuteTime": {
     "end_time": "2023-11-24T13:03:30.969204300Z",
     "start_time": "2023-11-24T13:03:30.937466100Z"
    }
   },
   "id": "eba3d60cabf56a50"
  },
  {
   "cell_type": "code",
   "execution_count": 29,
   "outputs": [
    {
     "name": "stdout",
     "output_type": "stream",
     "text": [
      "<class 'pandas.core.frame.DataFrame'>\n",
      "Index: 159 entries, 3 to 204\n",
      "Data columns (total 14 columns):\n",
      " #   Column             Non-Null Count  Dtype  \n",
      "---  ------             --------------  -----  \n",
      " 0   symboling          159 non-null    int64  \n",
      " 1   normalized-losses  159 non-null    int64  \n",
      " 2   wheel-base         159 non-null    float64\n",
      " 3   length             159 non-null    float64\n",
      " 4   width              159 non-null    float64\n",
      " 5   height             159 non-null    float64\n",
      " 6   curb-weight        159 non-null    int64  \n",
      " 7   engine-size        159 non-null    int64  \n",
      " 8   compression-ratio  159 non-null    float64\n",
      " 9   horsepower         159 non-null    int64  \n",
      " 10  peak-rpm           159 non-null    int64  \n",
      " 11  city-mpg           159 non-null    int64  \n",
      " 12  highway-mpg        159 non-null    int64  \n",
      " 13  price              159 non-null    int64  \n",
      "dtypes: float64(5), int64(9)\n",
      "memory usage: 18.6 KB\n"
     ]
    }
   ],
   "source": [
    "variancethreshold_data.info()"
   ],
   "metadata": {
    "collapsed": false,
    "ExecuteTime": {
     "end_time": "2023-11-24T13:03:36.384440Z",
     "start_time": "2023-11-24T13:03:36.363735800Z"
    }
   },
   "id": "847958a93072cb"
  },
  {
   "cell_type": "markdown",
   "source": [
    "Для початку було обрано метод відбору ознак на основі дисперсії як найпростіший.Зі значенням 0.6. Проте він показав недостатню ефектинвність та відсіяв лише два стовпчики bore та stroke"
   ],
   "metadata": {
    "collapsed": false
   },
   "id": "40d54eb6243fe19f"
  },
  {
   "cell_type": "markdown",
   "source": [],
   "metadata": {
    "collapsed": false
   },
   "id": "40bcf77d7be4335d"
  },
  {
   "cell_type": "code",
   "execution_count": 30,
   "outputs": [
    {
     "data": {
      "text/plain": "     curb-weight  engine-size  horsepower\n0         2337.0        109.0       102.0\n1         2824.0        136.0       115.0\n2         2844.0        136.0       110.0\n3         3086.0        131.0       140.0\n4         2395.0        108.0       101.0\n..           ...          ...         ...\n154       2952.0        141.0       114.0\n155       3049.0        141.0       160.0\n156       3012.0        173.0       134.0\n157       3217.0        145.0       106.0\n158       3062.0        141.0       114.0\n\n[159 rows x 3 columns]",
      "text/html": "<div>\n<style scoped>\n    .dataframe tbody tr th:only-of-type {\n        vertical-align: middle;\n    }\n\n    .dataframe tbody tr th {\n        vertical-align: top;\n    }\n\n    .dataframe thead th {\n        text-align: right;\n    }\n</style>\n<table border=\"1\" class=\"dataframe\">\n  <thead>\n    <tr style=\"text-align: right;\">\n      <th></th>\n      <th>curb-weight</th>\n      <th>engine-size</th>\n      <th>horsepower</th>\n    </tr>\n  </thead>\n  <tbody>\n    <tr>\n      <th>0</th>\n      <td>2337.0</td>\n      <td>109.0</td>\n      <td>102.0</td>\n    </tr>\n    <tr>\n      <th>1</th>\n      <td>2824.0</td>\n      <td>136.0</td>\n      <td>115.0</td>\n    </tr>\n    <tr>\n      <th>2</th>\n      <td>2844.0</td>\n      <td>136.0</td>\n      <td>110.0</td>\n    </tr>\n    <tr>\n      <th>3</th>\n      <td>3086.0</td>\n      <td>131.0</td>\n      <td>140.0</td>\n    </tr>\n    <tr>\n      <th>4</th>\n      <td>2395.0</td>\n      <td>108.0</td>\n      <td>101.0</td>\n    </tr>\n    <tr>\n      <th>...</th>\n      <td>...</td>\n      <td>...</td>\n      <td>...</td>\n    </tr>\n    <tr>\n      <th>154</th>\n      <td>2952.0</td>\n      <td>141.0</td>\n      <td>114.0</td>\n    </tr>\n    <tr>\n      <th>155</th>\n      <td>3049.0</td>\n      <td>141.0</td>\n      <td>160.0</td>\n    </tr>\n    <tr>\n      <th>156</th>\n      <td>3012.0</td>\n      <td>173.0</td>\n      <td>134.0</td>\n    </tr>\n    <tr>\n      <th>157</th>\n      <td>3217.0</td>\n      <td>145.0</td>\n      <td>106.0</td>\n    </tr>\n    <tr>\n      <th>158</th>\n      <td>3062.0</td>\n      <td>141.0</td>\n      <td>114.0</td>\n    </tr>\n  </tbody>\n</table>\n<p>159 rows × 3 columns</p>\n</div>"
     },
     "metadata": {},
     "output_type": "display_data"
    }
   ],
   "source": [
    "\n",
    "num_data_norm_symboling = num_data\n",
    "num_data_norm_symboling['symboling'] = MinMaxScaler().fit_transform(num_data_norm_symboling['symboling'].values.reshape((-1, 1)))\n",
    "percentile_sel = SelectPercentile(percentile=20)\n",
    "columns_numerical = num_data.columns\n",
    "selected_data_percentile = percentile_sel.fit_transform(num_data_norm_symboling.drop([\"price\"], axis=1), num_data_norm_symboling[\"price\"])\n",
    "selected_features = percentile_sel.get_feature_names_out(columns_numerical[:len(columns_numerical) - 1])\n",
    "display(pd.DataFrame(selected_data_percentile, columns=selected_features))\n"
   ],
   "metadata": {
    "collapsed": false,
    "ExecuteTime": {
     "end_time": "2023-11-24T13:22:31.380098500Z",
     "start_time": "2023-11-24T13:22:31.301463300Z"
    }
   },
   "id": "7c614e5d2c2782b9"
  },
  {
   "cell_type": "markdown",
   "source": [
    "Тому було обрано f-classif за яким зручно обирати необхідну кількість важливих ознак. У цьому випадку 3. кожен рядок у таблиці містить важливість ознак для відповідного спостереження в наборі даних.\n"
   ],
   "metadata": {
    "collapsed": false
   },
   "id": "84addee0a7a4f693"
  },
  {
   "cell_type": "markdown",
   "source": [
    "Таким чином найбільший вплив має curb-weight"
   ],
   "metadata": {
    "collapsed": false
   },
   "id": "7cb064d6ec5c51d"
  },
  {
   "cell_type": "markdown",
   "source": [],
   "metadata": {
    "collapsed": false
   },
   "id": "1256ec8cb00dbcff"
  },
  {
   "cell_type": "code",
   "execution_count": 43,
   "outputs": [
    {
     "data": {
      "text/plain": "             highway-mpg  peak-rpm  engine-type\nhighway-mpg     1.000000  0.888626     0.790095\npeak-rpm        0.888626  1.000000     0.812073\nengine-type     0.790095  0.812073     1.000000",
      "text/html": "<div>\n<style scoped>\n    .dataframe tbody tr th:only-of-type {\n        vertical-align: middle;\n    }\n\n    .dataframe tbody tr th {\n        vertical-align: top;\n    }\n\n    .dataframe thead th {\n        text-align: right;\n    }\n</style>\n<table border=\"1\" class=\"dataframe\">\n  <thead>\n    <tr style=\"text-align: right;\">\n      <th></th>\n      <th>highway-mpg</th>\n      <th>peak-rpm</th>\n      <th>engine-type</th>\n    </tr>\n  </thead>\n  <tbody>\n    <tr>\n      <th>highway-mpg</th>\n      <td>1.000000</td>\n      <td>0.888626</td>\n      <td>0.790095</td>\n    </tr>\n    <tr>\n      <th>peak-rpm</th>\n      <td>0.888626</td>\n      <td>1.000000</td>\n      <td>0.812073</td>\n    </tr>\n    <tr>\n      <th>engine-type</th>\n      <td>0.790095</td>\n      <td>0.812073</td>\n      <td>1.000000</td>\n    </tr>\n  </tbody>\n</table>\n</div>"
     },
     "execution_count": 43,
     "metadata": {},
     "output_type": "execute_result"
    }
   ],
   "source": [
    "one_factor_analysis = pd.DataFrame(selected_data_percentile, columns=selected_features)\n",
    "one_factor_analysis.corr()"
   ],
   "metadata": {
    "collapsed": false,
    "ExecuteTime": {
     "end_time": "2023-11-24T16:13:02.725584900Z",
     "start_time": "2023-11-24T16:13:02.687248400Z"
    }
   },
   "id": "6fc6644d620484d0"
  },
  {
   "cell_type": "code",
   "execution_count": 36,
   "outputs": [
    {
     "data": {
      "text/plain": "<Axes: >"
     },
     "execution_count": 36,
     "metadata": {},
     "output_type": "execute_result"
    },
    {
     "data": {
      "text/plain": "<Figure size 640x480 with 2 Axes>",
      "image/png": "[encoded data removed]"
     },
     "metadata": {},
     "output_type": "display_data"
    }
   ],
   "source": [
    "sns.heatmap(one_factor_analysis.corr())"
   ],
   "metadata": {
    "collapsed": false,
    "ExecuteTime": {
     "end_time": "2023-11-24T15:25:07.792128Z",
     "start_time": "2023-11-24T15:25:07.542642400Z"
    }
   },
   "id": "e2162ae4ebdf52e9"
  },
  {
   "cell_type": "markdown",
   "source": [
    "Кореляція впливу ознак одне на одного. Як можна побачити кореляція є позитивною та високою"
   ],
   "metadata": {
    "collapsed": false
   },
   "id": "2d9c9804a7c9f566"
  },
  {
   "cell_type": "code",
   "execution_count": 37,
   "outputs": [
    {
     "name": "stdout",
     "output_type": "stream",
     "text": [
      "     symboling  normalized-losses  make  fuel-type  aspiration  num-of-doors  \\\n",
      "3            2                164     0          1           0             0   \n",
      "4            2                164     0          1           0             0   \n",
      "6            1                158     0          1           0             0   \n",
      "8            1                158     0          1           1             0   \n",
      "10           2                192     1          1           0             1   \n",
      "..         ...                ...   ...        ...         ...           ...   \n",
      "200         -1                 95    17          1           0             0   \n",
      "201         -1                 95    17          1           1             0   \n",
      "202         -1                 95    17          1           0             0   \n",
      "203         -1                 95    17          0           1             0   \n",
      "204         -1                 95    17          1           1             0   \n",
      "\n",
      "     body-style  drive-wheels  engine-location  wheel-base  ...  engine-size  \\\n",
      "3             3             1                0        99.8  ...          109   \n",
      "4             3             0                0        99.4  ...          136   \n",
      "6             3             1                0       105.8  ...          136   \n",
      "8             3             1                0       105.8  ...          131   \n",
      "10            3             2                0       101.2  ...          108   \n",
      "..          ...           ...              ...         ...  ...          ...   \n",
      "200           3             2                0       109.1  ...          141   \n",
      "201           3             2                0       109.1  ...          141   \n",
      "202           3             2                0       109.1  ...          173   \n",
      "203           3             2                0       109.1  ...          145   \n",
      "204           3             2                0       109.1  ...          141   \n",
      "\n",
      "     fuel-system  bore  stroke  compression-ratio  horsepower  peak-rpm  \\\n",
      "3              4  3.19    3.40               10.0         102      5500   \n",
      "4              4  3.19    3.40                8.0         115      5500   \n",
      "6              4  3.19    3.40                8.5         110      5500   \n",
      "8              4  3.13    3.40                8.3         140      5500   \n",
      "10             4  3.50    2.80                8.8         101      5800   \n",
      "..           ...   ...     ...                ...         ...       ...   \n",
      "200            4  3.78    3.15                9.5         114      5400   \n",
      "201            4  3.78    3.15                8.7         160      5300   \n",
      "202            4  3.58    2.87                8.8         134      5500   \n",
      "203            2  3.01    3.40               23.0         106      4800   \n",
      "204            4  3.78    3.15                9.5         114      5400   \n",
      "\n",
      "     city-mpg  highway-mpg  price  \n",
      "3          24           30  13950  \n",
      "4          18           22  17450  \n",
      "6          19           25  17710  \n",
      "8          17           20  23875  \n",
      "10         23           29  16430  \n",
      "..        ...          ...    ...  \n",
      "200        23           28  16845  \n",
      "201        19           25  19045  \n",
      "202        18           23  21485  \n",
      "203        26           27  22470  \n",
      "204        19           25  22625  \n",
      "\n",
      "[159 rows x 26 columns]\n"
     ]
    }
   ],
   "source": [
    "encoder = preprocessing.LabelEncoder()\n",
    "df_encoded = df.copy()\n",
    "\n",
    "df_encoded['make'] = encoder.fit_transform(df_encoded['make'])\n",
    "df_encoded['fuel-type'] = encoder.fit_transform(df_encoded['fuel-type'])\n",
    "df_encoded['aspiration'] = encoder.fit_transform(df_encoded['aspiration'])\n",
    "df_encoded['num-of-doors'] = encoder.fit_transform(df_encoded['num-of-doors'])\n",
    "df_encoded['body-style'] = encoder.fit_transform(df_encoded['body-style'])\n",
    "df_encoded['drive-wheels'] = encoder.fit_transform(df_encoded['drive-wheels'])\n",
    "df_encoded['engine-location'] = encoder.fit_transform(df_encoded['engine-location'])\n",
    "df_encoded['engine-type'] = encoder.fit_transform(df_encoded['engine-type'])\n",
    "df_encoded['num-of-cylinders'] = encoder.fit_transform(df_encoded['num-of-cylinders'])\n",
    "df_encoded['fuel-system'] = encoder.fit_transform(df_encoded['fuel-system'])\n",
    " \n",
    "print(df_encoded)"
   ],
   "metadata": {
    "collapsed": false,
    "ExecuteTime": {
     "end_time": "2023-11-24T15:30:51.332886500Z",
     "start_time": "2023-11-24T15:30:51.248949800Z"
    }
   },
   "id": "f67acb22785e46ea"
  },
  {
   "cell_type": "code",
   "execution_count": 38,
   "outputs": [
    {
     "name": "stdout",
     "output_type": "stream",
     "text": [
      "[0.02878014 0.04326484 0.04236575 0.01313245 0.03119287 0.00909504\n",
      " 0.01743571 0.03529037 0.         0.03075803 0.03501765 0.04774286\n",
      " 0.03496493 0.08609684 0.03300398 0.01647766 0.05416094 0.0399437\n",
      " 0.06243174 0.05250684 0.04904535 0.06884305 0.05448874 0.11396052]\n"
     ]
    }
   ],
   "source": [
    "array = df_encoded.values\n",
    "X = array[:,0:24]\n",
    "Y = array[:,24]\n",
    "Y = Y.astype('float')\n",
    "\n",
    "model = ExtraTreesClassifier(n_estimators=10)\n",
    "model.fit(X, Y)\n",
    "print(model.feature_importances_)"
   ],
   "metadata": {
    "collapsed": false,
    "ExecuteTime": {
     "end_time": "2023-11-24T15:31:07.627213700Z",
     "start_time": "2023-11-24T15:31:07.568627300Z"
    }
   },
   "id": "4ebb41aac8e4bbff"
  },
  {
   "cell_type": "markdown",
   "source": [
    "Таким чином найважливішою ознакою є highway-mpg, 2- peak-rpm, 3- engine type якщо враховувати не тільки числові значення"
   ],
   "metadata": {
    "collapsed": false
   },
   "id": "e71b929a18feeb16"
  },
  {
   "cell_type": "code",
   "execution_count": 41,
   "outputs": [
    {
     "data": {
      "text/plain": "                   symboling  normalized-losses  wheel-base    length  \\\nsymboling           1.000000           0.518344   -0.520591 -0.336257   \nnormalized-losses   0.518344           1.000000   -0.060086  0.035541   \nwheel-base         -0.520591          -0.060086    1.000000  0.871534   \nlength             -0.336257           0.035541    0.871534  1.000000   \nwidth              -0.219186           0.109726    0.814991  0.838338   \nheight             -0.475185          -0.413702    0.555767  0.499251   \ncurb-weight        -0.251880           0.125858    0.810181  0.871291   \nengine-size        -0.109453           0.207820    0.649206  0.725953   \nbore               -0.256469          -0.031558    0.578159  0.646318   \nstroke             -0.021285           0.063330    0.167449  0.121073   \ncompression-ratio  -0.138316          -0.127259    0.291431  0.184814   \nhorsepower         -0.003949           0.290511    0.516948  0.672063   \npeak-rpm            0.199106           0.237697   -0.289234 -0.234074   \ncity-mpg            0.089550          -0.235523   -0.580657 -0.724544   \nhighway-mpg         0.149830          -0.188564   -0.611750 -0.724599   \nprice              -0.162794           0.202761    0.734419  0.760952   \n\n                      width    height  curb-weight  engine-size      bore  \\\nsymboling         -0.219186 -0.475185    -0.251880    -0.109453 -0.256469   \nnormalized-losses  0.109726 -0.413702     0.125858     0.207820 -0.031558   \nwheel-base         0.814991  0.555767     0.810181     0.649206  0.578159   \nlength             0.838338  0.499251     0.871291     0.725953  0.646318   \nwidth              1.000000  0.292706     0.870595     0.779253  0.572554   \nheight             0.292706  1.000000     0.367052     0.111083  0.254836   \ncurb-weight        0.870595  0.367052     1.000000     0.888626  0.645792   \nengine-size        0.779253  0.111083     0.888626     1.000000  0.595737   \nbore               0.572554  0.254836     0.645792     0.595737  1.000000   \nstroke             0.196619 -0.091313     0.173844     0.299683 -0.102581   \ncompression-ratio  0.258752  0.233308     0.224724     0.141097  0.015119   \nhorsepower         0.681872  0.034317     0.790095     0.812073  0.560239   \npeak-rpm          -0.232216 -0.245864    -0.259988    -0.284686 -0.312269   \ncity-mpg          -0.666684 -0.199737    -0.762155    -0.699139 -0.590440   \nhighway-mpg       -0.693339 -0.226136    -0.789338    -0.714095 -0.590850   \nprice              0.843371  0.244836     0.893639     0.841496  0.533890   \n\n                     stroke  compression-ratio  horsepower  peak-rpm  \\\nsymboling         -0.021285          -0.138316   -0.003949  0.199106   \nnormalized-losses  0.063330          -0.127259    0.290511  0.237697   \nwheel-base         0.167449           0.291431    0.516948 -0.289234   \nlength             0.121073           0.184814    0.672063 -0.234074   \nwidth              0.196619           0.258752    0.681872 -0.232216   \nheight            -0.091313           0.233308    0.034317 -0.245864   \ncurb-weight        0.173844           0.224724    0.790095 -0.259988   \nengine-size        0.299683           0.141097    0.812073 -0.284686   \nbore              -0.102581           0.015119    0.560239 -0.312269   \nstroke             1.000000           0.243587    0.148804 -0.011312   \ncompression-ratio  0.243587           1.000000   -0.162305 -0.416769   \nhorsepower         0.148804          -0.162305    1.000000  0.074057   \npeak-rpm          -0.011312          -0.416769    0.074057  1.000000   \ncity-mpg          -0.020055           0.278332   -0.837214 -0.052929   \nhighway-mpg       -0.012934           0.221483   -0.827941 -0.032777   \nprice              0.160664           0.209361    0.759874 -0.171916   \n\n                   city-mpg  highway-mpg     price  \nsymboling          0.089550     0.149830 -0.162794  \nnormalized-losses -0.235523    -0.188564  0.202761  \nwheel-base        -0.580657    -0.611750  0.734419  \nlength            -0.724544    -0.724599  0.760952  \nwidth             -0.666684    -0.693339  0.843371  \nheight            -0.199737    -0.226136  0.244836  \ncurb-weight       -0.762155    -0.789338  0.893639  \nengine-size       -0.699139    -0.714095  0.841496  \nbore              -0.590440    -0.590850  0.533890  \nstroke            -0.020055    -0.012934  0.160664  \ncompression-ratio  0.278332     0.221483  0.209361  \nhorsepower        -0.837214    -0.827941  0.759874  \npeak-rpm          -0.052929    -0.032777 -0.171916  \ncity-mpg           1.000000     0.971999 -0.692273  \nhighway-mpg        0.971999     1.000000 -0.720090  \nprice             -0.692273    -0.720090  1.000000  ",
      "text/html": "<div>\n<style scoped>\n    .dataframe tbody tr th:only-of-type {\n        vertical-align: middle;\n    }\n\n    .dataframe tbody tr th {\n        vertical-align: top;\n    }\n\n    .dataframe thead th {\n        text-align: right;\n    }\n</style>\n<table border=\"1\" class=\"dataframe\">\n  <thead>\n    <tr style=\"text-align: right;\">\n      <th></th>\n      <th>symboling</th>\n      <th>normalized-losses</th>\n      <th>wheel-base</th>\n      <th>length</th>\n      <th>width</th>\n      <th>height</th>\n      <th>curb-weight</th>\n      <th>engine-size</th>\n      <th>bore</th>\n      <th>stroke</th>\n      <th>compression-ratio</th>\n      <th>horsepower</th>\n      <th>peak-rpm</th>\n      <th>city-mpg</th>\n      <th>highway-mpg</th>\n      <th>price</th>\n    </tr>\n  </thead>\n  <tbody>\n    <tr>\n      <th>symboling</th>\n      <td>1.000000</td>\n      <td>0.518344</td>\n      <td>-0.520591</td>\n      <td>-0.336257</td>\n      <td>-0.219186</td>\n      <td>-0.475185</td>\n      <td>-0.251880</td>\n      <td>-0.109453</td>\n      <td>-0.256469</td>\n      <td>-0.021285</td>\n      <td>-0.138316</td>\n      <td>-0.003949</td>\n      <td>0.199106</td>\n      <td>0.089550</td>\n      <td>0.149830</td>\n      <td>-0.162794</td>\n    </tr>\n    <tr>\n      <th>normalized-losses</th>\n      <td>0.518344</td>\n      <td>1.000000</td>\n      <td>-0.060086</td>\n      <td>0.035541</td>\n      <td>0.109726</td>\n      <td>-0.413702</td>\n      <td>0.125858</td>\n      <td>0.207820</td>\n      <td>-0.031558</td>\n      <td>0.063330</td>\n      <td>-0.127259</td>\n      <td>0.290511</td>\n      <td>0.237697</td>\n      <td>-0.235523</td>\n      <td>-0.188564</td>\n      <td>0.202761</td>\n    </tr>\n    <tr>\n      <th>wheel-base</th>\n      <td>-0.520591</td>\n      <td>-0.060086</td>\n      <td>1.000000</td>\n      <td>0.871534</td>\n      <td>0.814991</td>\n      <td>0.555767</td>\n      <td>0.810181</td>\n      <td>0.649206</td>\n      <td>0.578159</td>\n      <td>0.167449</td>\n      <td>0.291431</td>\n      <td>0.516948</td>\n      <td>-0.289234</td>\n      <td>-0.580657</td>\n      <td>-0.611750</td>\n      <td>0.734419</td>\n    </tr>\n    <tr>\n      <th>length</th>\n      <td>-0.336257</td>\n      <td>0.035541</td>\n      <td>0.871534</td>\n      <td>1.000000</td>\n      <td>0.838338</td>\n      <td>0.499251</td>\n      <td>0.871291</td>\n      <td>0.725953</td>\n      <td>0.646318</td>\n      <td>0.121073</td>\n      <td>0.184814</td>\n      <td>0.672063</td>\n      <td>-0.234074</td>\n      <td>-0.724544</td>\n      <td>-0.724599</td>\n      <td>0.760952</td>\n    </tr>\n    <tr>\n      <th>width</th>\n      <td>-0.219186</td>\n      <td>0.109726</td>\n      <td>0.814991</td>\n      <td>0.838338</td>\n      <td>1.000000</td>\n      <td>0.292706</td>\n      <td>0.870595</td>\n      <td>0.779253</td>\n      <td>0.572554</td>\n      <td>0.196619</td>\n      <td>0.258752</td>\n      <td>0.681872</td>\n      <td>-0.232216</td>\n      <td>-0.666684</td>\n      <td>-0.693339</td>\n      <td>0.843371</td>\n    </tr>\n    <tr>\n      <th>height</th>\n      <td>-0.475185</td>\n      <td>-0.413702</td>\n      <td>0.555767</td>\n      <td>0.499251</td>\n      <td>0.292706</td>\n      <td>1.000000</td>\n      <td>0.367052</td>\n      <td>0.111083</td>\n      <td>0.254836</td>\n      <td>-0.091313</td>\n      <td>0.233308</td>\n      <td>0.034317</td>\n      <td>-0.245864</td>\n      <td>-0.199737</td>\n      <td>-0.226136</td>\n      <td>0.244836</td>\n    </tr>\n    <tr>\n      <th>curb-weight</th>\n      <td>-0.251880</td>\n      <td>0.125858</td>\n      <td>0.810181</td>\n      <td>0.871291</td>\n      <td>0.870595</td>\n      <td>0.367052</td>\n      <td>1.000000</td>\n      <td>0.888626</td>\n      <td>0.645792</td>\n      <td>0.173844</td>\n      <td>0.224724</td>\n      <td>0.790095</td>\n      <td>-0.259988</td>\n      <td>-0.762155</td>\n      <td>-0.789338</td>\n      <td>0.893639</td>\n    </tr>\n    <tr>\n      <th>engine-size</th>\n      <td>-0.109453</td>\n      <td>0.207820</td>\n      <td>0.649206</td>\n      <td>0.725953</td>\n      <td>0.779253</td>\n      <td>0.111083</td>\n      <td>0.888626</td>\n      <td>1.000000</td>\n      <td>0.595737</td>\n      <td>0.299683</td>\n      <td>0.141097</td>\n      <td>0.812073</td>\n      <td>-0.284686</td>\n      <td>-0.699139</td>\n      <td>-0.714095</td>\n      <td>0.841496</td>\n    </tr>\n    <tr>\n      <th>bore</th>\n      <td>-0.256469</td>\n      <td>-0.031558</td>\n      <td>0.578159</td>\n      <td>0.646318</td>\n      <td>0.572554</td>\n      <td>0.254836</td>\n      <td>0.645792</td>\n      <td>0.595737</td>\n      <td>1.000000</td>\n      <td>-0.102581</td>\n      <td>0.015119</td>\n      <td>0.560239</td>\n      <td>-0.312269</td>\n      <td>-0.590440</td>\n      <td>-0.590850</td>\n      <td>0.533890</td>\n    </tr>\n    <tr>\n      <th>stroke</th>\n      <td>-0.021285</td>\n      <td>0.063330</td>\n      <td>0.167449</td>\n      <td>0.121073</td>\n      <td>0.196619</td>\n      <td>-0.091313</td>\n      <td>0.173844</td>\n      <td>0.299683</td>\n      <td>-0.102581</td>\n      <td>1.000000</td>\n      <td>0.243587</td>\n      <td>0.148804</td>\n      <td>-0.011312</td>\n      <td>-0.020055</td>\n      <td>-0.012934</td>\n      <td>0.160664</td>\n    </tr>\n    <tr>\n      <th>compression-ratio</th>\n      <td>-0.138316</td>\n      <td>-0.127259</td>\n      <td>0.291431</td>\n      <td>0.184814</td>\n      <td>0.258752</td>\n      <td>0.233308</td>\n      <td>0.224724</td>\n      <td>0.141097</td>\n      <td>0.015119</td>\n      <td>0.243587</td>\n      <td>1.000000</td>\n      <td>-0.162305</td>\n      <td>-0.416769</td>\n      <td>0.278332</td>\n      <td>0.221483</td>\n      <td>0.209361</td>\n    </tr>\n    <tr>\n      <th>horsepower</th>\n      <td>-0.003949</td>\n      <td>0.290511</td>\n      <td>0.516948</td>\n      <td>0.672063</td>\n      <td>0.681872</td>\n      <td>0.034317</td>\n      <td>0.790095</td>\n      <td>0.812073</td>\n      <td>0.560239</td>\n      <td>0.148804</td>\n      <td>-0.162305</td>\n      <td>1.000000</td>\n      <td>0.074057</td>\n      <td>-0.837214</td>\n      <td>-0.827941</td>\n      <td>0.759874</td>\n    </tr>\n    <tr>\n      <th>peak-rpm</th>\n      <td>0.199106</td>\n      <td>0.237697</td>\n      <td>-0.289234</td>\n      <td>-0.234074</td>\n      <td>-0.232216</td>\n      <td>-0.245864</td>\n      <td>-0.259988</td>\n      <td>-0.284686</td>\n      <td>-0.312269</td>\n      <td>-0.011312</td>\n      <td>-0.416769</td>\n      <td>0.074057</td>\n      <td>1.000000</td>\n      <td>-0.052929</td>\n      <td>-0.032777</td>\n      <td>-0.171916</td>\n    </tr>\n    <tr>\n      <th>city-mpg</th>\n      <td>0.089550</td>\n      <td>-0.235523</td>\n      <td>-0.580657</td>\n      <td>-0.724544</td>\n      <td>-0.666684</td>\n      <td>-0.199737</td>\n      <td>-0.762155</td>\n      <td>-0.699139</td>\n      <td>-0.590440</td>\n      <td>-0.020055</td>\n      <td>0.278332</td>\n      <td>-0.837214</td>\n      <td>-0.052929</td>\n      <td>1.000000</td>\n      <td>0.971999</td>\n      <td>-0.692273</td>\n    </tr>\n    <tr>\n      <th>highway-mpg</th>\n      <td>0.149830</td>\n      <td>-0.188564</td>\n      <td>-0.611750</td>\n      <td>-0.724599</td>\n      <td>-0.693339</td>\n      <td>-0.226136</td>\n      <td>-0.789338</td>\n      <td>-0.714095</td>\n      <td>-0.590850</td>\n      <td>-0.012934</td>\n      <td>0.221483</td>\n      <td>-0.827941</td>\n      <td>-0.032777</td>\n      <td>0.971999</td>\n      <td>1.000000</td>\n      <td>-0.720090</td>\n    </tr>\n    <tr>\n      <th>price</th>\n      <td>-0.162794</td>\n      <td>0.202761</td>\n      <td>0.734419</td>\n      <td>0.760952</td>\n      <td>0.843371</td>\n      <td>0.244836</td>\n      <td>0.893639</td>\n      <td>0.841496</td>\n      <td>0.533890</td>\n      <td>0.160664</td>\n      <td>0.209361</td>\n      <td>0.759874</td>\n      <td>-0.171916</td>\n      <td>-0.692273</td>\n      <td>-0.720090</td>\n      <td>1.000000</td>\n    </tr>\n  </tbody>\n</table>\n</div>"
     },
     "execution_count": 41,
     "metadata": {},
     "output_type": "execute_result"
    }
   ],
   "source": [
    "num_data.corr()"
   ],
   "metadata": {
    "collapsed": false,
    "ExecuteTime": {
     "end_time": "2023-11-24T16:04:43.399937300Z",
     "start_time": "2023-11-24T16:04:43.375566800Z"
    }
   },
   "id": "37c73c13c2aad341"
  },
  {
   "cell_type": "code",
   "execution_count": 42,
   "outputs": [
    {
     "data": {
      "text/plain": "<Axes: >"
     },
     "execution_count": 42,
     "metadata": {},
     "output_type": "execute_result"
    },
    {
     "data": {
      "text/plain": "<Figure size 640x480 with 2 Axes>",
      "image/png": "[encoded data removed]"
     },
     "metadata": {},
     "output_type": "display_data"
    }
   ],
   "source": [
    "sns.heatmap(num_data.corr())"
   ],
   "metadata": {
    "collapsed": false,
    "ExecuteTime": {
     "end_time": "2023-11-24T16:05:12.221183400Z",
     "start_time": "2023-11-24T16:05:11.750910500Z"
    }
   },
   "id": "20bffd3e56a01624"
  },
  {
   "cell_type": "markdown",
   "source": [
    "Також було створено графік кореляції числових даних, щоб простежити залежність однієї ознаки від іншої "
   ],
   "metadata": {
    "collapsed": false
   },
   "id": "b7ed952c8b0040ba"
  },
  {
   "cell_type": "code",
   "execution_count": null,
   "outputs": [],
   "source": [],
   "metadata": {
    "collapsed": false
   },
   "id": "f407b7b84a70e062"
  }
 ],
 "metadata": {
  "kernelspec": {
   "display_name": "Python 3",
   "language": "python",
   "name": "python3"
  },
  "language_info": {
   "codemirror_mode": {
    "name": "ipython",
    "version": 2
   },
   "file_extension": ".py",
   "mimetype": "text/x-python",
   "name": "python",
   "nbconvert_exporter": "python",
   "pygments_lexer": "ipython2",
   "version": "2.7.6"
  }
 },
 "nbformat": 4,
 "nbformat_minor": 5
}
